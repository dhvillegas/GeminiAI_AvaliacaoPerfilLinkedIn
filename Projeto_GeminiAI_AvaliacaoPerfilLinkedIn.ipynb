{
  "nbformat": 4,
  "nbformat_minor": 0,
  "metadata": {
    "colab": {
      "provenance": [],
      "authorship_tag": "ABX9TyOra3cp91PfD4N8ji4khqQ5",
      "include_colab_link": true
    },
    "kernelspec": {
      "name": "python3",
      "display_name": "Python 3"
    },
    "language_info": {
      "name": "python"
    }
  },
  "cells": [
    {
      "cell_type": "markdown",
      "metadata": {
        "id": "view-in-github",
        "colab_type": "text"
      },
      "source": [
        "<a href=\"https://colab.research.google.com/github/dhvillegas/GeminiAI_AvaliacaoPerfilLinkedIn/blob/main/Projeto_GeminiAI_AvaliacaoPerfilLinkedIn.ipynb\" target=\"_parent\"><img src=\"https://colab.research.google.com/assets/colab-badge.svg\" alt=\"Open In Colab\"/></a>"
      ]
    },
    {
      "cell_type": "markdown",
      "source": [
        "**Projeto**: Avaliação do Perfil do LinkedIn com Google Gemini  \n",
        "**Problema**: Atualizar o perfil do LinkedIn pode ser um processo frustrante e demorado, especialmente para usuários que não estão familiarizados com a plataforma e não disponibilizam de tempo consequentemente um perfil desatualizado pode prejudicar a imagem profissional do usuário e dificultar a busca por novas oportunidades de trabalho.  \n",
        "**Outcome**: Reduzir o tempo para atualizar o perfil, melhorar a visualização e network no LinkedIn, aumentar as oportunidades de oferta de emprego  \n",
        "**Solução**: Com o arquivo gerado de Resumo (CV) no formato de PDF é póssivel fazer uma analise e receber feedbacks de melhorias nos pontos especificos de acordo com a sua vaga, o arquivo é estruturado e analisado pelo Gemini e calibrando o resultado esperado usando a engenharia de prompt **Few-shot Chain-of-Thought prompting** onde é capturado insights importantes para atualizar o perfil.  \n"
      ],
      "metadata": {
        "id": "ezrm09GLA066"
      }
    },
    {
      "cell_type": "markdown",
      "source": [
        "# Configura o ambiente para rodar a solução"
      ],
      "metadata": {
        "id": "46Gg0BmfAqU8"
      }
    },
    {
      "cell_type": "code",
      "execution_count": 11,
      "metadata": {
        "colab": {
          "base_uri": "https://localhost:8080/"
        },
        "id": "2c3LG7mppDSC",
        "outputId": "bf5aee85-ad46-41ae-8955-8bf50c8f9abb"
      },
      "outputs": [
        {
          "output_type": "stream",
          "name": "stdout",
          "text": [
            "\u001b[?25l     \u001b[90m━━━━━━━━━━━━━━━━━━━━━━━━━━━━━━━━━━━━━━━━\u001b[0m \u001b[32m0.0/232.6 kB\u001b[0m \u001b[31m?\u001b[0m eta \u001b[36m-:--:--\u001b[0m\r\u001b[2K     \u001b[91m━━━━━━━━━━━━━━━━━━━━━━━━━━━━━━━━━━━━━━\u001b[0m\u001b[91m╸\u001b[0m\u001b[90m━\u001b[0m \u001b[32m225.3/232.6 kB\u001b[0m \u001b[31m7.4 MB/s\u001b[0m eta \u001b[36m0:00:01\u001b[0m\r\u001b[2K     \u001b[90m━━━━━━━━━━━━━━━━━━━━━━━━━━━━━━━━━━━━━━━━\u001b[0m \u001b[32m232.6/232.6 kB\u001b[0m \u001b[31m5.7 MB/s\u001b[0m eta \u001b[36m0:00:00\u001b[0m\n",
            "\u001b[?25h"
          ]
        }
      ],
      "source": [
        "!pip install -q -U google-generativeai\n",
        "!pip install -q -U PyPDF2"
      ]
    },
    {
      "cell_type": "code",
      "source": [
        "#Importações e configurações\n",
        "import numpy as np\n",
        "import pandas as pd\n",
        "import PyPDF2 as pdf\n",
        "import json\n",
        "import google.generativeai as genai\n",
        "from google.colab import userdata\n",
        "from google.colab import files\n",
        "\n",
        "api_key = userdata.get(\"SECRET_KEY\")\n",
        "genai.configure(api_key=api_key)"
      ],
      "metadata": {
        "id": "bKa8jF6upWuh"
      },
      "execution_count": 98,
      "outputs": []
    },
    {
      "cell_type": "code",
      "source": [
        "generation_config = {\n",
        "   \"candidate_count\": 1,\n",
        "   \"temperature\": 0.5,\n",
        "}"
      ],
      "metadata": {
        "id": "PwX7LUmFpgrz"
      },
      "execution_count": 13,
      "outputs": []
    },
    {
      "cell_type": "code",
      "source": [
        "safety_settings = {\n",
        "    \"HARASSMENT\": \"BLOCK_NONE\",\n",
        "    \"HATE\": \"BLOCK_NONE\",\n",
        "    \"SEXUAL\": \"BLOCK_NONE\",\n",
        "    \"DANGEROUS\": \"BLOCK_NONE\"\n",
        "}"
      ],
      "metadata": {
        "id": "iddhbhYbpjVt"
      },
      "execution_count": 14,
      "outputs": []
    },
    {
      "cell_type": "markdown",
      "source": [
        "# Instanciando o projeto"
      ],
      "metadata": {
        "id": "PSrOqpgBppHC"
      }
    },
    {
      "cell_type": "code",
      "source": [
        "model = genai.GenerativeModel(model_name=\"gemini-1.0-pro\",\n",
        "                              generation_config=generation_config,\n",
        "                              safety_settings=safety_settings)"
      ],
      "metadata": {
        "id": "W1xfQwv4pt8V"
      },
      "execution_count": 15,
      "outputs": []
    },
    {
      "cell_type": "markdown",
      "source": [
        "**Atribuindo o arquivo de Resumo do LinkedIn em PDF**  \n",
        "Gerar o arquivo:  \n",
        "1. Acessar sua conta do LinkedIn no seu perfil ex: https://www.linkedin.com/in/meunome/  \n",
        "2. Abaixo do nome e profissão, clique no botão \"More\"  \n",
        "3. Selecione a opção Save to PDF  \n",
        "\n",
        "Depois que o arquivo for gerado, fazer upload no Colab e na pasta Files do menu direito, apos upload clique no icone dos 3 pontos para selecionar a opção \"Copy path\" referente ao arquivo desejado.  \n",
        "Ex: /content/Profile.pdf   \n",
        "Informe o caminho do path no Prompt abaixo"
      ],
      "metadata": {
        "id": "8rVgLooXHn6s"
      }
    },
    {
      "cell_type": "code",
      "source": [
        "\n",
        "profile_path = input(\"Informe o caminho da URL com o arquivo de Resumo do LinkedIn em PDF\")\n"
      ],
      "metadata": {
        "id": "DDjTXgDuq9qV",
        "colab": {
          "base_uri": "https://localhost:8080/"
        },
        "outputId": "c6ee387f-4c97-4528-b4c1-50a424341a7e"
      },
      "execution_count": 121,
      "outputs": [
        {
          "name": "stdout",
          "output_type": "stream",
          "text": [
            "Informe o caminho da URL com o arquivo de Resumo do LinkedIn em PDF/content/Themis.pdf\n"
          ]
        }
      ]
    },
    {
      "cell_type": "code",
      "source": [
        "# Abrir o arquivo PDF\n",
        "with open(profile_path, 'rb') as arquivo_pdf:\n",
        "    # Criar um objeto PdfFileReader\n",
        "    leitor_pdf = pdf.PdfReader(arquivo_pdf)\n",
        "\n",
        "    # Obter o número de páginas\n",
        "    numero_paginas = len(leitor_pdf.pages)\n",
        "\n",
        "# Extrair texto de cada página\n",
        "    input_avaliar = \"\"\n",
        "    for pagina in range(numero_paginas):\n",
        "        # Obter o objeto Page\n",
        "        pagina_obj = leitor_pdf.pages[pagina]\n",
        "\n",
        "        # Extrair o texto da página\n",
        "        input_avaliar = input_avaliar + pagina_obj.extract_text()\n",
        "\n",
        "        # Processar o texto extraído (por exemplo, imprimir ou salvar em um arquivo)\n",
        "    #print(input_avaliar)\n"
      ],
      "metadata": {
        "id": "B9zlgLz8r0YO"
      },
      "execution_count": 122,
      "outputs": []
    },
    {
      "cell_type": "markdown",
      "source": [
        "\n",
        "# Treinando Gemini utilizando o modelo Few-shot Chain-of-Thought prompting\n"
      ],
      "metadata": {
        "id": "wO3Q8LloEA_g"
      }
    },
    {
      "cell_type": "code",
      "source": [
        "#Exemplo Modelador 1\n",
        "input_modelador_1 = \"\"\"Contact\n",
        "email@gmail.com\n",
        "www.linkedin.com/in/1234556666\n",
        "(LinkedIn)\n",
        "Top Skills\n",
        "Dashboards\n",
        "Solved Problems\n",
        "Comunications\n",
        "Time workFulano de Souza\n",
        "Backend Developer\n",
        "Rio de Janeiro\n",
        "Summary\n",
        "I am a passionate developer with 10 years of experience in developing robust and scalable applications, using technologies such as NodeJS, Python, MySQL, PostgreSQL, MongoDB, among others.\n",
        "Currently, I work on projects where I am responsible for creating and maintaining dynamic, scalable and secure web applications.\n",
        "My plurality of technologies is a strength that I have developed over the years, allowing me to contribute to the success of my clients and partners. I am always looking for new challenges and learning opportunities.\n",
        "Experience\n",
        "Webcore Games\n",
        "Software Engineer\n",
        "Mar 2022 - Present · 2 yrs 3 mos\n",
        "São Paulo, São Paulo, Brasil · Remote\n",
        "Desenvolvimento e manutenção de aplicações B2B e B2C, sendo a maioria projetadas para campanhas publicitárias com alto volume de usuários.\n",
        "Gorila\n",
        "Engenheiro de software\n",
        "Jan 2021 - Feb 2022 · 1 yr 2 mos\n",
        "São Paulo, São Paulo, Brasil · Remote\n",
        "Trabalhei desenvolvendo as funcionalidades direcionadas aos clientes B2B, integrando com os outros serviços Gorila e externos.\n",
        "Sinergia Studios\n",
        "Engenheiro de software líder\n",
        "Feb 2019 - Jan 2021 · 2 yrs\n",
        "São Paulo e Região, Brasil\n",
        "Desenvolvimento da aplicação em servidor, gerenciamento dos servidores, banco de dados e painel interno feito em angular.\n",
        "Education\n",
        "Impacta Tecnologia\n",
        "Bacharelado, Gestão de Sistemas de Informação\n",
        "ETEC Professor Camargo Aranha\n",
        "Ensino Técnico, Informática\"\"\"\n",
        "\n",
        "#Exemplo Modelador 2\n",
        "input_modelador_2 = \"\"\"Contato\n",
        "novoemail@gmail.com\n",
        "www.linkedin.com/in/33333-797bb8143  (LinkedIn)\n",
        "Principais competências\n",
        "Comunicação\n",
        "Liderança\n",
        "Data-drivenCiclana Moreira Silva\n",
        "Analista de marketing sênior\n",
        "Experiência\n",
        "TOTVS\n",
        "Analista de marketing\n",
        "Jun 2021 - Present · 3 yrs\n",
        "São Paulo, Brasil\n",
        "Sebrae-SP\n",
        "Analista comunicação e marketing\n",
        "Sep 2012 - Jun 2021 · 8 yrs 10 mos\n",
        "Formação acadêmica\n",
        "FIAP\n",
        "Digital Analytics, Marketing Digital\n",
        "FIAP\n",
        "UX\"\"\"\n",
        "\n",
        "\n",
        "#Exemplo Modelador 3\n",
        "input_modelador_3 = \"\"\"Contato\n",
        "novoemail@gmail.com\n",
        "www.linkedin.com/in/45675reeee  (LinkedIn)\n",
        "Principais competências\n",
        "organização\n",
        "Focado\n",
        "AutodidataMarkato do Brasil\n",
        "Front-end Developer | Angular\n",
        "Resumo\n",
        "Olá, sou Desenvolvedor Front-end graduado em Sistemas de Informação, com 4 anos de experiência em criação de sites.\n",
        "Acredito na importância da usabilidade e acessibilidade, por isso, me dedico a construir interfaces responsivas e intuitivas, sempre buscando a melhor experiência para o usuário.\n",
        "Experiência\n",
        "Lejour\n",
        "Desenvolvedor web\n",
        "Mar 2020 - Feb 2024 · 4 yrs\n",
        "ão Paulo, Brasil · Remote\n",
        "- Desenvolvimento de dashboards internos e externos utilizando Angular (sempre na última versão);\n",
        "- Participação na criação do design system com lib angular que contém e exporta estilos, componentes e serviços que serão reutilizados através dos diferentes dashboards;\n",
        "- Desenvolvimento orientado a testes (TDD) em todos os projetos.\n",
        "Insize Brasil\n",
        "Auxiliar administrativo\n",
        "Jan 2015 - Oct 2015 · 10 mos\n",
        "São Paulo, Brasil · On-site\n",
        "Atendimento ao cliente, participação em licitações eletrônicas, elaboração e envio de propostas.\n",
        "Formação acadêmica\n",
        "Centro Universitário Senac\n",
        "Analise e Desenvolvimento de Sistemas, Tecnologia da informação\n",
        "Centro Universitário Senac\n",
        "Bacharelado, Ciência da Computação\"\"\"\n",
        "\n",
        "#Exemplo Modelador 4\n",
        "input_modelador_4 = \"\"\"Contact\n",
        "nononononon@mnonono.com\n",
        "www.linkedin.com/in/nononononono\n",
        "(LinkedIn)\n",
        "Top Skills\n",
        "Discovery\n",
        "Liderança de equipe multifuncional\n",
        "Gestão de produto técnico\n",
        "Growth Hacking\n",
        "Desenvolvimento de produtos\n",
        "Gestão de produtos\n",
        "Scrum\n",
        "Product led Growth\n",
        "Microsoft OfficeEdson Arantes do Nascimento (Pele)\n",
        "Head of Product\n",
        "Osasco, São Paulo, Brazil\n",
        "Summary\n",
        "Com mais de 15 anos de experiência em desenvolvimento de produtos digitais de alta complexidade, sou um líder de produtos apaixonado por inovação, dados e resultados.\n",
        "Tenho um MBA em Gerenciamento de Projetos pela Fundação Getulio Vargas e diversas certificações em Design Thinking, Product Management e Yellow Belt.\n",
        "Atualmente, sou Head of Products na ZAK, uma empresa líder em soluções para o setor de alimentação.\n",
        "Sou responsável pela unidade de negócio de POS/PDV, onde gerencio equipes multidisciplinares que entregam produtos incríveis para clientes B2B e B2C.\n",
        "Meu objetivo é sempre trabalhar com autonomia, alinhado aos objetivos estratégicos da empresa e buscando gerar valor real para o mercado. Estou constantemente motivado em buscar novos desafios e oportunidades de crescimento profissional.\n",
        "Experience\n",
        "Orizon\n",
        "Group Product Manager\n",
        "May 2024 - Present · 1 mo\n",
        "São Paulo, Brazil\n",
        "Zak\n",
        "Head of Products\n",
        "Jan 2022 - May 2024 · 2 yrs 5 mos\n",
        "São Paulo, Brazil\n",
        "Proudly responsible for the BU - POS/PDV\n",
        "TC\n",
        "Group Product Manager\n",
        "May 2021 - Nov 2021 · 7 mos\n",
        "Discovery e Growth - Produtos Private e Premium\n",
        "Itau Unibanco\n",
        "Group Product Manager\n",
        "May 2020 - May 2021 · 1 yr 1 mo\n",
        "São Paulo, Brasil\n",
        "Projetos: Hipercard; Open Banking e PIX.\n",
        "TOTVS\n",
        "Lead Product Manager\n",
        "Jan 2019 - May 2020 · 1 yr 5 mosJan 2019 to May 2020 · 1 yr 5 mos\n",
        "São Paulo e Região, Brasil\n",
        "Responsável pelo módulo financeiro com atividades estratégicas voltadas ao cliente e hub de inovação.\n",
        "Projetos: CNAB Cloud, APP Viagens, Contas a Pagar e Receber e Inteligência Artificial Carol.\n",
        "  Page 1 of 6\n",
        "\n",
        "Evita dar feedback negativo, mesmo quando necessário para o desenvolvimento.\n",
        "Elogia em excesso, sem apontar áreas de melhoria.\n",
        "Desmotiva a equipe com feedbacks vagos e improdutivos.\n",
        "Favorece apadrinhados e amigos, ignorando o talento e o mérito.\n",
        "Cria um ambiente injusto e desmotivador.\n",
        "Impede a retenção de talentos e o crescimento da equipe.\n",
        "Education\n",
        "FGV - Fundação Getulio Vargas\n",
        "MBA - Gerente executivo de Projetos, Gerenciamento de Projeto\n",
        "Anhanguera Educacional\n",
        "Analista de Sistemas, Tecnologia da Informação\"\"\"\n",
        "\n"
      ],
      "metadata": {
        "id": "4LiZg1A69ybe"
      },
      "execution_count": 123,
      "outputs": []
    },
    {
      "cell_type": "code",
      "source": [
        "\n",
        "prompt_parts = [\n",
        "  \"Separe parte do textos de acordo com o contexto solicitado para organizar as informações respeitando somente os campos definidos no output Nome: ; Cargo: ; Resumo: ; Experiência Empresa 1: ; Cargo Empresa 1: ; ResumoCargo Empresa 1: ; Experiência Empresa 2: ; Cargo Empresa 2: ; ResumoCargo Empresa 2: ; Educação: \",\n",
        "  f\"input: {input_modelador_1}\",\n",
        "  \"output: Nome: Fulano de Souza; Cargo: Backend Developer; Resumo: I am a passionate developer with 10 years of experience in developing robust and scalable applications, using technologies such as NodeJS, Python, MySQL, PostgreSQL, MongoDB, among others.Currently, I work on projects where I am responsible for creating and maintaining dynamic, scalable and secure web applications.My plurality of technologies is a strength that I have developed over the years, allowing me to contribute to the success of my clients and partners. I am always looking for new challenges and learning opportunities.; Experiência Empresa 1: Webcore Games; Cargo: Software Engineer; ResumoCargo Empresa 1: Desenvolvimento e manutenção de aplicações B2B e B2C, sendo a maioria projetadas para campanhas publicitárias com alto volume de usuários.; Experiência Empresa 2: Gorila; Cargo Empresa 2: Engenheiro de software; ResumoCargo Empresa 2: Trabalhei desenvolvendo as funcionalidades direcionadas aos clientes B2B, integrando com os outros serviços Gorila e externos.; Educação: Impacta Tecnologia\",\n",
        "  f\"input: {input_modelador_2}\",\n",
        "  \"output: Nome: Ciclana Moreira Silva; Cargo: Analista de marketing sênior; Resumo: ; Experiência Empresa 1: TOTVS; Cargo Empresa 1: Analista de marketing; ResumoCargo Empresa 1: ; Experiência Empresa 2: Sebrae-SP; Cargo Empresa 2: Analista comunicação e marketing; ResumoCargo Empresa 2: ; Educação: FIAP\",\n",
        "  f\"input: {input_modelador_3}\",\n",
        "  \"output: Nome: Markato do Brasil; Cargo: Front-end Developer | Angular; Resumo: Olá, sou Desenvolvedor Front-end graduado em Sistemas de Informação, com 4 anos de experiência em criação de sites.Acredito na importância da usabilidade e acessibilidade, por isso, me dedico a construir interfaces responsivas e intuitivas, sempre buscando a melhor experiência para o usuário.; Experiência Empresa 1: Lejour; Cargo Empresa 1: Desenvolvedor web; ResumoCargo Empresa 1: - Desenvolvimento de dashboards internos e externos utilizando Angular (sempre na última versão)- Participação na criação do design system com lib angular que contém e exporta estilos, componentes e serviços que serão reutilizados através dos diferentes dashboards- Desenvolvimento orientado a testes (TDD) em todos os projetos.; Experiência Empresa 2: Insize Brasil; Cargo Empresa 2: Auxiliar administrativo; ResumoCargo Empresa 2: ; Educação: Centro Universitário Senac\",\n",
        "  f\"input: {input_modelador_4}\",\n",
        "  \"output: Nome: Edson Arantes do Nascimento (Pele); Cargo: Head of Product; Resumo: Com mais de 15 anos de experiência em desenvolvimento de produtos digitais de alta complexidade, sou um líder de produtos apaixonado por inovação, dados e resultados. Tenho um MBA em Gerenciamento de Projetos pela Fundação Getulio Vargas e diversas certificações em Design Thinking, Product Management e Yellow Belt. Atualmente, sou Head of Products na ZAK, uma empresa líder em soluções para o setor de alimentação. Sou responsável pela unidade de negócio de POS/PDV, onde gerencio equipes multidisciplinares que entregam produtos incríveis para clientes B2B e B2C. Meu objetivo é sempre trabalhar com autonomia, alinhado aos objetivos estratégicos da empresa e buscando gerar valor real para o mercado. Estou constantemente motivado em buscar novos desafios e oportunidades de crescimento profissional.; Experiência Empresa 1: Orizon; Cargo Empresa 1: Group Product Manager; ResumoCargo Empresa 1: ; Experiência Empresa 2: Zak; Cargo Empresa 2: Head of Products; ResumoCargo Empresa 2: Proudly responsible for the BU - POS/PDV; Educação: FGV - Fundação Getulio Vargas\",\n",
        "  #f\"input: {input_modelador_5}\",\n",
        "  #\"output: Nome: ; Cargo: ; Resumo: ; Experiência Empresa 1: ; Cargo Empresa 1: ; ResumoCargo Empresa 1: ; Experiência Empresa 2: ; Cargo Empresa 2: ; ResumoCargo Empresa 2: ; Educação: \"\n",
        "  f\"input: {input_avaliar}\",\n",
        "  \"output: \", ]\n",
        "\n",
        "response = model.generate_content(prompt_parts)\n",
        "dado_estruturado = response.text\n",
        "#print(dado_estruturado)"
      ],
      "metadata": {
        "id": "xFxNZEFnz9yA"
      },
      "execution_count": 124,
      "outputs": []
    },
    {
      "cell_type": "code",
      "source": [
        "dado_estruturado = dado_estruturado.replace(\",\",\"\\\\\")\n",
        "response = model.generate_content(f\"Transforme o resultado do texto abaixo em uma saida tipo csv {dado_estruturado} utilizando a estrutura de colunas Nome, Cargo, Resumo, Experiência Empresa 1,Cargo Empresa 1,ResumoCargo Empresa 1,Experiência Empresa 2,Cargo Empresa 2,ResumoCargo Empresa 2,Educação  com separação entre as colunas utilizando o caractere , e removendo linhas em branco\")\n",
        "\n",
        "dado_estruturado_tratado = response.text\n",
        "\n",
        "dados_lista = dado_estruturado_tratado.split('\\n')\n",
        "dados_lista = [linha.split(',') for linha in dados_lista]"
      ],
      "metadata": {
        "id": "Q4dhRUpjws4w"
      },
      "execution_count": 125,
      "outputs": []
    },
    {
      "cell_type": "code",
      "source": [
        "df = pd.DataFrame(dados_lista,columns=dados_lista[0])\n",
        "df = df.drop(0)\n",
        "df"
      ],
      "metadata": {
        "colab": {
          "base_uri": "https://localhost:8080/",
          "height": 150
        },
        "id": "mDSSqseS4q_9",
        "outputId": "54b7105e-f607-4a2c-e6da-5015006da3a9"
      },
      "execution_count": 126,
      "outputs": [
        {
          "output_type": "execute_result",
          "data": {
            "text/plain": [
              "                          Nome  \\\n",
              "1  Themis Hoffmeister Villegas   \n",
              "\n",
              "                                               Cargo  \\\n",
              "1  Coordenador de Observabilidade\\ Sustentação e ...   \n",
              "\n",
              "                                              Resumo Experiência Empresa 1  \\\n",
              "1  • Experiência na área de Tecnologia desde 1990...            credsystem   \n",
              "\n",
              "                                     Cargo Empresa 1 ResumoCargo Empresa 1  \\\n",
              "1  Coordenador de Observabilidade\\ Sustentação e ...                         \n",
              "\n",
              "  Experiência Empresa 2                Cargo Empresa 2 ResumoCargo Empresa 2  \\\n",
              "1      SysMap Solutions  Especialista em monitoramento                         \n",
              "\n",
              "  Educação  \n",
              "1  UNINOVE  "
            ],
            "text/html": [
              "\n",
              "  <div id=\"df-7e8bac3e-c0ce-4c37-95a4-07668d41b4df\" class=\"colab-df-container\">\n",
              "    <div>\n",
              "<style scoped>\n",
              "    .dataframe tbody tr th:only-of-type {\n",
              "        vertical-align: middle;\n",
              "    }\n",
              "\n",
              "    .dataframe tbody tr th {\n",
              "        vertical-align: top;\n",
              "    }\n",
              "\n",
              "    .dataframe thead th {\n",
              "        text-align: right;\n",
              "    }\n",
              "</style>\n",
              "<table border=\"1\" class=\"dataframe\">\n",
              "  <thead>\n",
              "    <tr style=\"text-align: right;\">\n",
              "      <th></th>\n",
              "      <th>Nome</th>\n",
              "      <th>Cargo</th>\n",
              "      <th>Resumo</th>\n",
              "      <th>Experiência Empresa 1</th>\n",
              "      <th>Cargo Empresa 1</th>\n",
              "      <th>ResumoCargo Empresa 1</th>\n",
              "      <th>Experiência Empresa 2</th>\n",
              "      <th>Cargo Empresa 2</th>\n",
              "      <th>ResumoCargo Empresa 2</th>\n",
              "      <th>Educação</th>\n",
              "    </tr>\n",
              "  </thead>\n",
              "  <tbody>\n",
              "    <tr>\n",
              "      <th>1</th>\n",
              "      <td>Themis Hoffmeister Villegas</td>\n",
              "      <td>Coordenador de Observabilidade\\ Sustentação e ...</td>\n",
              "      <td>• Experiência na área de Tecnologia desde 1990...</td>\n",
              "      <td>credsystem</td>\n",
              "      <td>Coordenador de Observabilidade\\ Sustentação e ...</td>\n",
              "      <td></td>\n",
              "      <td>SysMap Solutions</td>\n",
              "      <td>Especialista em monitoramento</td>\n",
              "      <td></td>\n",
              "      <td>UNINOVE</td>\n",
              "    </tr>\n",
              "  </tbody>\n",
              "</table>\n",
              "</div>\n",
              "    <div class=\"colab-df-buttons\">\n",
              "\n",
              "  <div class=\"colab-df-container\">\n",
              "    <button class=\"colab-df-convert\" onclick=\"convertToInteractive('df-7e8bac3e-c0ce-4c37-95a4-07668d41b4df')\"\n",
              "            title=\"Convert this dataframe to an interactive table.\"\n",
              "            style=\"display:none;\">\n",
              "\n",
              "  <svg xmlns=\"http://www.w3.org/2000/svg\" height=\"24px\" viewBox=\"0 -960 960 960\">\n",
              "    <path d=\"M120-120v-720h720v720H120Zm60-500h600v-160H180v160Zm220 220h160v-160H400v160Zm0 220h160v-160H400v160ZM180-400h160v-160H180v160Zm440 0h160v-160H620v160ZM180-180h160v-160H180v160Zm440 0h160v-160H620v160Z\"/>\n",
              "  </svg>\n",
              "    </button>\n",
              "\n",
              "  <style>\n",
              "    .colab-df-container {\n",
              "      display:flex;\n",
              "      gap: 12px;\n",
              "    }\n",
              "\n",
              "    .colab-df-convert {\n",
              "      background-color: #E8F0FE;\n",
              "      border: none;\n",
              "      border-radius: 50%;\n",
              "      cursor: pointer;\n",
              "      display: none;\n",
              "      fill: #1967D2;\n",
              "      height: 32px;\n",
              "      padding: 0 0 0 0;\n",
              "      width: 32px;\n",
              "    }\n",
              "\n",
              "    .colab-df-convert:hover {\n",
              "      background-color: #E2EBFA;\n",
              "      box-shadow: 0px 1px 2px rgba(60, 64, 67, 0.3), 0px 1px 3px 1px rgba(60, 64, 67, 0.15);\n",
              "      fill: #174EA6;\n",
              "    }\n",
              "\n",
              "    .colab-df-buttons div {\n",
              "      margin-bottom: 4px;\n",
              "    }\n",
              "\n",
              "    [theme=dark] .colab-df-convert {\n",
              "      background-color: #3B4455;\n",
              "      fill: #D2E3FC;\n",
              "    }\n",
              "\n",
              "    [theme=dark] .colab-df-convert:hover {\n",
              "      background-color: #434B5C;\n",
              "      box-shadow: 0px 1px 3px 1px rgba(0, 0, 0, 0.15);\n",
              "      filter: drop-shadow(0px 1px 2px rgba(0, 0, 0, 0.3));\n",
              "      fill: #FFFFFF;\n",
              "    }\n",
              "  </style>\n",
              "\n",
              "    <script>\n",
              "      const buttonEl =\n",
              "        document.querySelector('#df-7e8bac3e-c0ce-4c37-95a4-07668d41b4df button.colab-df-convert');\n",
              "      buttonEl.style.display =\n",
              "        google.colab.kernel.accessAllowed ? 'block' : 'none';\n",
              "\n",
              "      async function convertToInteractive(key) {\n",
              "        const element = document.querySelector('#df-7e8bac3e-c0ce-4c37-95a4-07668d41b4df');\n",
              "        const dataTable =\n",
              "          await google.colab.kernel.invokeFunction('convertToInteractive',\n",
              "                                                    [key], {});\n",
              "        if (!dataTable) return;\n",
              "\n",
              "        const docLinkHtml = 'Like what you see? Visit the ' +\n",
              "          '<a target=\"_blank\" href=https://colab.research.google.com/notebooks/data_table.ipynb>data table notebook</a>'\n",
              "          + ' to learn more about interactive tables.';\n",
              "        element.innerHTML = '';\n",
              "        dataTable['output_type'] = 'display_data';\n",
              "        await google.colab.output.renderOutput(dataTable, element);\n",
              "        const docLink = document.createElement('div');\n",
              "        docLink.innerHTML = docLinkHtml;\n",
              "        element.appendChild(docLink);\n",
              "      }\n",
              "    </script>\n",
              "  </div>\n",
              "\n",
              "\n",
              "  <div id=\"id_8eb7ec25-78bb-4c0d-aaca-c47653434560\">\n",
              "    <style>\n",
              "      .colab-df-generate {\n",
              "        background-color: #E8F0FE;\n",
              "        border: none;\n",
              "        border-radius: 50%;\n",
              "        cursor: pointer;\n",
              "        display: none;\n",
              "        fill: #1967D2;\n",
              "        height: 32px;\n",
              "        padding: 0 0 0 0;\n",
              "        width: 32px;\n",
              "      }\n",
              "\n",
              "      .colab-df-generate:hover {\n",
              "        background-color: #E2EBFA;\n",
              "        box-shadow: 0px 1px 2px rgba(60, 64, 67, 0.3), 0px 1px 3px 1px rgba(60, 64, 67, 0.15);\n",
              "        fill: #174EA6;\n",
              "      }\n",
              "\n",
              "      [theme=dark] .colab-df-generate {\n",
              "        background-color: #3B4455;\n",
              "        fill: #D2E3FC;\n",
              "      }\n",
              "\n",
              "      [theme=dark] .colab-df-generate:hover {\n",
              "        background-color: #434B5C;\n",
              "        box-shadow: 0px 1px 3px 1px rgba(0, 0, 0, 0.15);\n",
              "        filter: drop-shadow(0px 1px 2px rgba(0, 0, 0, 0.3));\n",
              "        fill: #FFFFFF;\n",
              "      }\n",
              "    </style>\n",
              "    <button class=\"colab-df-generate\" onclick=\"generateWithVariable('df')\"\n",
              "            title=\"Generate code using this dataframe.\"\n",
              "            style=\"display:none;\">\n",
              "\n",
              "  <svg xmlns=\"http://www.w3.org/2000/svg\" height=\"24px\"viewBox=\"0 0 24 24\"\n",
              "       width=\"24px\">\n",
              "    <path d=\"M7,19H8.4L18.45,9,17,7.55,7,17.6ZM5,21V16.75L18.45,3.32a2,2,0,0,1,2.83,0l1.4,1.43a1.91,1.91,0,0,1,.58,1.4,1.91,1.91,0,0,1-.58,1.4L9.25,21ZM18.45,9,17,7.55Zm-12,3A5.31,5.31,0,0,0,4.9,8.1,5.31,5.31,0,0,0,1,6.5,5.31,5.31,0,0,0,4.9,4.9,5.31,5.31,0,0,0,6.5,1,5.31,5.31,0,0,0,8.1,4.9,5.31,5.31,0,0,0,12,6.5,5.46,5.46,0,0,0,6.5,12Z\"/>\n",
              "  </svg>\n",
              "    </button>\n",
              "    <script>\n",
              "      (() => {\n",
              "      const buttonEl =\n",
              "        document.querySelector('#id_8eb7ec25-78bb-4c0d-aaca-c47653434560 button.colab-df-generate');\n",
              "      buttonEl.style.display =\n",
              "        google.colab.kernel.accessAllowed ? 'block' : 'none';\n",
              "\n",
              "      buttonEl.onclick = () => {\n",
              "        google.colab.notebook.generateWithVariable('df');\n",
              "      }\n",
              "      })();\n",
              "    </script>\n",
              "  </div>\n",
              "\n",
              "    </div>\n",
              "  </div>\n"
            ],
            "application/vnd.google.colaboratory.intrinsic+json": {
              "type": "dataframe",
              "variable_name": "df",
              "repr_error": "0"
            }
          },
          "metadata": {},
          "execution_count": 126
        }
      ]
    },
    {
      "cell_type": "markdown",
      "source": [
        "Analise do Perfil utilizando Gemini"
      ],
      "metadata": {
        "id": "nm_mriBDWmri"
      }
    },
    {
      "cell_type": "code",
      "source": [
        "nome_coluna = 'Cargo'\n",
        "perfil_resumo_avaliado = \"\"\n",
        "\n",
        "perfil_cargo = df['Cargo']\n",
        "perfil_resumo = df['Resumo']\n",
        "\n",
        "response = model.generate_content(f\"Como um tech recruter avalie e compare com as melhores práticas e recomendações do mercado para um perfil no LinkedIn o campo Resumo, identifique o que não está adequado e recomende o que poderia ser incluido ou alterado. Considerando o cargo de {perfil_cargo}. Sendo o resumo {perfil_resumo}. Adicione no final uma tabela com duas colunas, sendo uma com o Resumo Informado e a outra coluna com o Resumo Sugerido pela analise.\" )\n",
        "perfil_resumo_avaliado = response.text\n",
        "#perfil_resumo_avaliado"
      ],
      "metadata": {
        "id": "xYU2Iv9VWzGI"
      },
      "execution_count": 127,
      "outputs": []
    },
    {
      "cell_type": "code",
      "source": [
        "nome_coluna = 'Cargo Empresa 1'\n",
        "perfil_resumocargo_empresa_1_avaliado = \"\"\n",
        "\n",
        "if nome_coluna in df.columns:\n",
        "  perfil_cargo_empresa_1 = df['Cargo Empresa 1']\n",
        "  perfil_resumocargo_empresa_1 = df['ResumoCargo Empresa 1']\n",
        "\n",
        "  if perfil_cargo_empresa_1 is not None:\n",
        "    response = model.generate_content(f\"Como um tech recruter avalie e compare com as melhores práticas e recomendações do mercado para um perfil no LinkedIn o campo Descrição do campo de Experiência, , identifique o que não está adequado e recomende o que poderia ser incluido ou alterado. Considerando o cargo de {perfil_cargo_empresa_1}. Sendo o resumo {perfil_resumocargo_empresa_1}. Adicione no final uma tabela com duas colunas, sendo uma com o Resumo do Cargo Informado e a outra coluna com o Resumo do Cargo Sugerido pela analise.\")\n",
        "    perfil_resumocargo_empresa_1_avaliado = response.text\n",
        "    #perfil_resumocargo_empresa_1_avaliado"
      ],
      "metadata": {
        "id": "a6SkMHylbeRo"
      },
      "execution_count": 128,
      "outputs": []
    },
    {
      "cell_type": "code",
      "source": [
        "nome_coluna = 'Cargo Empresa 2'\n",
        "perfil_resumocargo_empresa_2_avaliado = \"\"\n",
        "\n",
        "if nome_coluna in df.columns:\n",
        "  perfil_cargo_empresa_2 = df['Cargo Empresa 2']\n",
        "  perfil_resumocargo_empresa_2 = df['ResumoCargo Empresa 2']\n",
        "\n",
        "  if perfil_cargo_empresa_2 is not None:\n",
        "    response = model.generate_content(f\"Como um tech recruter avalie e compare com as melhores práticas e recomendações do mercado para um perfil no LinkedIn o campo Descrição do campo de Experiência, , identifique o que não está adequado e recomende o que poderia ser incluido ou alterado. Considerando o cargo de {perfil_cargo_empresa_2}. Sendo o resumo {perfil_resumocargo_empresa_2}. Adicione no final uma tabela com duas colunas, sendo uma com o Resumo do Cargo Informado e a outra coluna com o Resumo do Cargo Sugerido pela analise.\")\n",
        "    perfil_resumocargo_empresa_2_avaliado = response.text\n",
        "    #perfil_resumocargo_empresa_2_avaliado"
      ],
      "metadata": {
        "id": "WFGvPgrModmT"
      },
      "execution_count": 129,
      "outputs": []
    },
    {
      "cell_type": "code",
      "source": [
        "#Dicas Gerais\n",
        "\n",
        "response = model.generate_content(f\"\"\"Como um recrutador recomende as melhores práticas e dicas para melhorar a visibilidade do perfil no LinkedIn e aumentar as oportunidades de ser encontrado na rede. Detalhe os seguintes topicos\n",
        "- Melhorar a foto do Perfil e informar o tamanho adequado em pixels\n",
        "- Criar um Papel de Parede adequado e informar o tamanho adequado em pixels\n",
        "- Recomendações dos top skill para {perfil_cargo}\n",
        "- Sobre mais Experiencias e detalhe\n",
        "- Certificações\n",
        "- Projetos\n",
        "- Recomendações\"\"\")\n",
        "perfil_dicas_gerais = response.text"
      ],
      "metadata": {
        "id": "vpeQMTjyyxOu"
      },
      "execution_count": 130,
      "outputs": []
    },
    {
      "cell_type": "code",
      "source": [
        "import textwrap\n",
        "from IPython.display import display\n",
        "from IPython.display import Markdown\n",
        "\n",
        "def to_markdown(text):\n",
        "  text = text.replace('•', '  *')\n",
        "  return Markdown(textwrap.indent(text, '> ', predicate=lambda _: True))\n",
        "\n",
        "\n",
        "display(to_markdown(perfil_resumo_avaliado))\n",
        "print('-------------------------------------------')\n",
        "if 'Cargo Empresa 1' in df.columns:\n",
        "  display(to_markdown(perfil_resumocargo_empresa_1_avaliado))\n",
        "  print('-------------------------------------------')\n",
        "if 'Cargo Empresa 2' in df.columns:\n",
        "  display(to_markdown(perfil_resumocargo_empresa_2_avaliado))\n",
        "  print('-------------------------------------------')\n",
        "display(to_markdown(perfil_dicas_gerais))\n",
        "print('-------------------------------------------')\n"
      ],
      "metadata": {
        "colab": {
          "base_uri": "https://localhost:8080/",
          "height": 1000
        },
        "id": "DhUPLor2pJpB",
        "outputId": "2046357c-7e0d-4389-aae8-5f4f3f8d7429"
      },
      "execution_count": 131,
      "outputs": [
        {
          "output_type": "display_data",
          "data": {
            "text/plain": [
              "<IPython.core.display.Markdown object>"
            ],
            "text/markdown": "> **Avaliação do Resumo do LinkedIn**\n> \n> **Resumo Informado:**\n> \n> * **Experiência na área de Tecnologia desde 1990**\n> \n> **Melhores Práticas e Recomendações:**\n> \n> * O resumo deve ser conciso e impactante, destacando as habilidades e experiências mais relevantes para o cargo.\n> * Deve incluir palavras-chave específicas relacionadas ao cargo para aumentar a visibilidade nos resultados da pesquisa.\n> * Deve demonstrar valor quantificável e resultados alcançados.\n> * Deve ser escrito em um tom profissional e envolvente.\n> \n> **O que não está adequado:**\n> \n> * O resumo fornecido é muito curto e não fornece informações suficientes sobre as habilidades e experiências do candidato.\n> * Não inclui palavras-chave específicas relacionadas ao cargo de Coordenador de Observabilidade/Sustentação.\n> * Não demonstra valor quantificável ou resultados alcançados.\n> \n> **O que poderia ser incluído ou alterado:**\n> \n> * **Habilidades:** Observabilidade, Sustentação, Monitoramento de Desempenho, Análise de Dados, Solução de Problemas\n> * **Experiência:** Responsável por monitorar e manter a disponibilidade e o desempenho de sistemas de TI, identificar e resolver problemas de forma proativa, analisar dados para identificar tendências e melhorar a eficiência operacional\n> * **Resultados:** Reduziu o tempo médio de reparo em 25% implementando um novo sistema de monitoramento e alertas\n> * **Objetivos:** Buscar uma função de Coordenador de Observabilidade/Sustentação para utilizar minhas habilidades e experiência para otimizar a disponibilidade e o desempenho dos sistemas de TI\n> \n> **Tabela Comparativa**\n> \n> | Resumo Informado | Resumo Sugerido |\n> |---|---|\n> |   * Experiência na área de Tecnologia desde 1990 |   * Habilidades: Observabilidade, Sustentação, Monitoramento de Desempenho, Análise de Dados, Solução de Problemas   * Experiência: Responsável por monitorar e manter a disponibilidade e o desempenho de sistemas de TI, identificar e resolver problemas de forma proativa, analisar dados para identificar tendências e melhorar a eficiência operacional   * Resultados: Reduziu o tempo médio de reparo em 25% implementando um novo sistema de monitoramento e alertas   * Objetivos: Buscar uma função de Coordenador de Observabilidade/Sustentação para utilizar minhas habilidades e experiência para otimizar a disponibilidade e o desempenho dos sistemas de TI |"
          },
          "metadata": {}
        },
        {
          "output_type": "stream",
          "name": "stdout",
          "text": [
            "-------------------------------------------\n"
          ]
        },
        {
          "output_type": "display_data",
          "data": {
            "text/plain": [
              "<IPython.core.display.Markdown object>"
            ],
            "text/markdown": "> **Avaliação do Campo de Descrição de Experiência no LinkedIn**\n> \n> **Cargo:** Coordenador de Observabilidade\\ Sustentação e ...\n> \n> **Descrição do Campo de Experiência:**\n> \n> ```\n> Name: Cargo Empresa 1, dtype: object.\n> ```\n> \n> **Melhores Práticas e Recomendações:**\n> \n> * **Quantificar os resultados:** Fornecer dados específicos que demonstrem o impacto de suas contribuições.\n> * **Usar palavras-chave relevantes:** Incluir termos de pesquisa comuns que os recrutadores usarão para encontrar candidatos qualificados.\n> * **Destacar habilidades e responsabilidades essenciais:** Enfatizar as habilidades e responsabilidades mais relevantes para o cargo desejado.\n> * **Personalizar para cada função:** Adaptar a descrição da experiência para destacar as qualificações mais relevantes para cada cargo específico.\n> * **Manter a concisão:** Manter a descrição dentro de 200-300 palavras, focando nos pontos mais importantes.\n> \n> **O que Não Está Adequado:**\n> \n> * A descrição atual não quantifica os resultados nem usa palavras-chave relevantes.\n> * Não destaca as habilidades e responsabilidades essenciais para o cargo de Coordenador de Observabilidade.\n> * Não é personalizada para o cargo específico.\n> \n> **Recomendações:**\n> \n> * **Quantificar os Resultados:**\n>     * \"Implementei um sistema de monitoramento que reduziu o tempo de inatividade em 25%.\"\n> * **Usar Palavras-Chave Relevantes:**\n>     * \"Observabilidade\", \"Sustentação\", \"Monitoramento de Infraestrutura\", \"Análise de Dados\"\n> * **Destacar Habilidades e Responsabilidades Essenciais:**\n>     * \"Monitorar e analisar métricas de desempenho de infraestrutura.\"\n>     * \"Identificar e resolver problemas de desempenho proativamente.\"\n>     * \"Colaborar com equipes de desenvolvimento e operações para melhorar a estabilidade do sistema.\"\n> * **Personalizar para o Cargo Específico:**\n>     * Adaptar a descrição para destacar as qualificações mais relevantes para o cargo específico.\n> * **Manter a Concisão:**\n>     * Resumir a descrição em 200-300 palavras, focando nos pontos mais importantes.\n> \n> **Tabela de Resumo de Cargo**\n> \n> | Resumo do Cargo Informado | Resumo do Cargo Sugerido |\n> |---|---|\n> | Name: Cargo Empresa 1, dtype: object. | Coordenador de Observabilidade com experiência comprovada em monitoramento de infraestrutura, análise de dados e resolução de problemas. Quantifiquei os resultados, implementando um sistema de monitoramento que reduziu o tempo de inatividade em 25%. Proficiente em ferramentas de observabilidade como Prometheus, Grafana e Splunk. |"
          },
          "metadata": {}
        },
        {
          "output_type": "stream",
          "name": "stdout",
          "text": [
            "-------------------------------------------\n"
          ]
        },
        {
          "output_type": "display_data",
          "data": {
            "text/plain": [
              "<IPython.core.display.Markdown object>"
            ],
            "text/markdown": "> **Avaliação do Campo de Descrição de Experiência**\n> \n> **O que não está adequado:**\n> \n> * **Falta de quantificação:** Não há números ou métricas específicas para demonstrar o impacto do trabalho do candidato.\n> * **Linguagem passiva:** O uso de verbos passivos (por exemplo, \"foi responsável por\") enfraquece o impacto das realizações.\n> * **Falta de detalhes:** A descrição é muito geral e não fornece informações suficientes sobre as responsabilidades e conquistas específicas do candidato.\n> \n> **Recomendações para Inclusão ou Alteração:**\n> \n> * **Quantificar realizações:** Use números e métricas para demonstrar o impacto quantificável do trabalho, como \"reduziu o tempo de resposta em 20%\" ou \"aumentou a satisfação do cliente em 15%\".\n> * **Usar verbos ativos:** Use verbos ativos (por exemplo, \"monitorou\", \"analisou\") para destacar o papel ativo do candidato.\n> * **Fornecer detalhes específicos:** Descreva as responsabilidades e conquistas específicas do candidato, incluindo ferramentas, tecnologias e metodologias usadas.\n> * **Destacar habilidades e competências:** Mencione habilidades e competências relevantes para o cargo, como \"monitoramento de rede\", \"análise de dados\" e \"resolução de problemas\".\n> \n> **Tabela de Resumo do Cargo**\n> \n> | Resumo do Cargo Informado | Resumo do Cargo Sugerido |\n> |---|---|\n> | Responsável por monitorar e analisar sistemas de rede | Monitorou e analisou sistemas de rede, resultando em uma redução de 20% no tempo de resposta e um aumento de 15% na satisfação do cliente. |"
          },
          "metadata": {}
        },
        {
          "output_type": "stream",
          "name": "stdout",
          "text": [
            "-------------------------------------------\n"
          ]
        },
        {
          "output_type": "display_data",
          "data": {
            "text/plain": [
              "<IPython.core.display.Markdown object>"
            ],
            "text/markdown": "> **Melhores Práticas para Melhorar a Visibilidade do Perfil do LinkedIn**\n> \n> **Melhorar a Foto do Perfil**\n> \n> * Use uma foto profissional de alta qualidade que mostre claramente seu rosto.\n> * Vista-se profissionalmente e certifique-se de que o fundo seja neutro.\n> * O tamanho recomendado para a foto do perfil é 400 x 400 pixels.\n> \n> **Criar um Papel de Parede Adequado**\n> \n> * Escolha uma imagem de capa que represente seu setor ou área de especialização.\n> * Use imagens de alta resolução que não sejam pixeladas.\n> * O tamanho recomendado para a imagem de capa é 1584 x 396 pixels.\n> \n> **Habilidades Recomendadas para Coordenador de Observabilidade/Sustentação**\n> \n> * Monitoramento de Desempenho\n> * Gerenciamento de Incidentes\n> * Análise de Dados\n> * Automação de TI\n> * Gerenciamento de Alertas\n> \n> **Sobre Mais Experiências e Detalhes**\n> \n> * Descreva claramente suas responsabilidades e realizações em cada função que ocupou.\n> * Use palavras-chave relevantes para o setor e as funções que você está buscando.\n> * Quantifique seus resultados sempre que possível.\n> \n> **Certificações**\n> \n> * Liste todas as certificações relevantes que você possui.\n> * Forneça links para credenciais e certificados verificados.\n> \n> **Projetos**\n> \n> * Destaque projetos pessoais ou profissionais que demonstrem suas habilidades e interesses.\n> * Forneça descrições detalhadas e links para o trabalho concluído.\n> \n> **Recomendações**\n> \n> * Peça recomendações de colegas, gerentes ou clientes que possam atestar suas habilidades e ética de trabalho.\n> * Certifique-se de que as recomendações sejam específicas e personalizadas."
          },
          "metadata": {}
        },
        {
          "output_type": "stream",
          "name": "stdout",
          "text": [
            "-------------------------------------------\n"
          ]
        }
      ]
    }
  ]
}